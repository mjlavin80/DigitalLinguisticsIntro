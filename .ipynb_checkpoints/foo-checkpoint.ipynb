{
 "cells": [
  {
   "cell_type": "code",
   "execution_count": 23,
   "metadata": {
    "collapsed": true
   },
   "outputs": [],
   "source": [
    "import nltk"
   ]
  },
  {
   "cell_type": "code",
   "execution_count": 24,
   "metadata": {
    "collapsed": true
   },
   "outputs": [],
   "source": [
    "fox = open('fox_in_sox.txt').read()"
   ]
  },
  {
   "cell_type": "code",
   "execution_count": 25,
   "metadata": {
    "collapsed": false
   },
   "outputs": [
    {
     "name": "stdout",
     "output_type": "stream",
     "text": [
      "Through three cheese trees three free fleas flew.\n",
      "While these fleas flew, freezy breeze blew.\n",
      "Freezy breeze made these three trees freeze.\n",
      "Freezy trees made these trees' cheese freeze.\n",
      "That's what made these three free fleas sneeze.\n",
      "\n"
     ]
    }
   ],
   "source": [
    "print(fox)"
   ]
  },
  {
   "cell_type": "code",
   "execution_count": 26,
   "metadata": {
    "collapsed": false
   },
   "outputs": [
    {
     "data": {
      "text/plain": [
       "['Through',\n",
       " 'three',\n",
       " 'cheese',\n",
       " 'trees',\n",
       " 'three',\n",
       " 'free',\n",
       " 'fleas',\n",
       " 'flew',\n",
       " '.',\n",
       " 'While',\n",
       " 'these',\n",
       " 'fleas',\n",
       " 'flew',\n",
       " ',',\n",
       " 'freezy',\n",
       " 'breeze',\n",
       " 'blew',\n",
       " '.',\n",
       " 'Freezy',\n",
       " 'breeze',\n",
       " 'made',\n",
       " 'these',\n",
       " 'three',\n",
       " 'trees',\n",
       " 'freeze',\n",
       " '.',\n",
       " 'Freezy',\n",
       " 'trees',\n",
       " 'made',\n",
       " 'these',\n",
       " 'trees',\n",
       " \"'\",\n",
       " 'cheese',\n",
       " 'freeze',\n",
       " '.',\n",
       " 'That',\n",
       " \"'s\",\n",
       " 'what',\n",
       " 'made',\n",
       " 'these',\n",
       " 'three',\n",
       " 'free',\n",
       " 'fleas',\n",
       " 'sneeze',\n",
       " '.']"
      ]
     },
     "execution_count": 26,
     "metadata": {},
     "output_type": "execute_result"
    }
   ],
   "source": [
    "nltk.word_tokenize(fox)"
   ]
  },
  {
   "cell_type": "markdown",
   "metadata": {},
   "source": [
    "Whoa why is this list printing with one item per line?? \n",
    "Most curious..."
   ]
  },
  {
   "cell_type": "code",
   "execution_count": 27,
   "metadata": {
    "collapsed": false
   },
   "outputs": [
    {
     "name": "stdout",
     "output_type": "stream",
     "text": [
      "['Through', 'three', 'cheese', 'trees', 'three', 'free', 'fleas', 'flew', '.', 'While', 'these', 'fleas', 'flew', ',', 'freezy', 'breeze', 'blew', '.', 'Freezy', 'breeze', 'made', 'these', 'three', 'trees', 'freeze', '.', 'Freezy', 'trees', 'made', 'these', 'trees', \"'\", 'cheese', 'freeze', '.', 'That', \"'s\", 'what', 'made', 'these', 'three', 'free', 'fleas', 'sneeze', '.']\n"
     ]
    }
   ],
   "source": [
    "print(nltk.word_tokenize(fox))"
   ]
  },
  {
   "cell_type": "code",
   "execution_count": 28,
   "metadata": {
    "collapsed": false
   },
   "outputs": [
    {
     "data": {
      "text/plain": [
       "list"
      ]
     },
     "execution_count": 28,
     "metadata": {},
     "output_type": "execute_result"
    }
   ],
   "source": [
    "type(nltk.word_tokenize(fox))"
   ]
  },
  {
   "cell_type": "code",
   "execution_count": 29,
   "metadata": {
    "collapsed": false,
    "scrolled": true
   },
   "outputs": [
    {
     "data": {
      "text/plain": [
       "[1, 2, 3, 4, 5, 6, 7, 8]"
      ]
     },
     "execution_count": 29,
     "metadata": {},
     "output_type": "execute_result"
    }
   ],
   "source": [
    "[1, 2, 3, 4, 5, 6, 7, 8]"
   ]
  },
  {
   "cell_type": "markdown",
   "metadata": {},
   "source": [
    "So this is supposed to be markdown text...\n",
    "Where I can put notes in plain text\n",
    "## Important heading"
   ]
  },
  {
   "cell_type": "markdown",
   "metadata": {},
   "source": [
    "So, somehow In [7] and Out[7] are directly followed by In [15] and Out [15], because I deleted a bunch of cells... Is there a way to remedy this?"
   ]
  },
  {
   "cell_type": "code",
   "execution_count": 31,
   "metadata": {
    "collapsed": false
   },
   "outputs": [
    {
     "data": {
      "text/plain": [
       "['The', 'Fulton', 'County', 'Grand', 'Jury', 'said', ...]"
      ]
     },
     "execution_count": 31,
     "metadata": {},
     "output_type": "execute_result"
    }
   ],
   "source": [
    "nltk.corpus.brown.words()"
   ]
  },
  {
   "cell_type": "raw",
   "metadata": {
    "collapsed": true
   },
   "source": [
    "use raw nbconvert for pure plaintext. \"A raw cell is defined as content that should be included unmodified in nbconvert output. For example, this cell could include raw LaTeX for nbconvert to pdf via latex, or restructured text for use in Sphinx documentation.\" See: https://ipython.org/ipython-doc/3/notebook/nbformat.html"
   ]
  }
 ],
 "metadata": {
  "kernelspec": {
   "display_name": "Python 3",
   "language": "python",
   "name": "python3"
  },
  "language_info": {
   "codemirror_mode": {
    "name": "ipython",
    "version": 3
   },
   "file_extension": ".py",
   "mimetype": "text/x-python",
   "name": "python",
   "nbconvert_exporter": "python",
   "pygments_lexer": "ipython3",
   "version": "3.4.3"
  }
 },
 "nbformat": 4,
 "nbformat_minor": 0
}
